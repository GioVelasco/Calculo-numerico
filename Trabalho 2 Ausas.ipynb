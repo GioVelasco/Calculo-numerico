{
 "cells": [
  {
   "attachments": {},
   "cell_type": "markdown",
   "id": "86f605b5",
   "metadata": {},
   "source": [
    "# Resolução de Redes em python\n",
    "\n",
    "Giovanna de Freitas Velasco - 1367634\n",
    "João Pedro Gomes - 13839069"
   ]
  },
  {
   "attachments": {},
   "cell_type": "markdown",
   "id": "6ca5b3e5",
   "metadata": {},
   "source": [
    "### Exercício A"
   ]
  },
  {
   "cell_type": "code",
   "execution_count": 20,
   "id": "c7d2a55c",
   "metadata": {},
   "outputs": [],
   "source": [
    "import numpy as np\n",
    "import matplotlib.pyplot as plt"
   ]
  },
  {
   "cell_type": "code",
   "execution_count": 3,
   "id": "8ec9a411",
   "metadata": {},
   "outputs": [
    {
     "name": "stdout",
     "output_type": "stream",
     "text": [
      "[[ 4. -2.  0.  0. -2.]\n",
      " [-2.  5. -2.  0. -1.]\n",
      " [ 0. -2.  5. -1. -2.]\n",
      " [ 0.  0. -1.  3. -2.]\n",
      " [-2. -1. -2. -2.  7.]]\n"
     ]
    }
   ],
   "source": [
    "# Gera matriz de condutâncias\n",
    "# nv: número de vértices\n",
    "# nc: número de canos\n",
    "# C: lista de condutâncias do cano\n",
    "# connec: matriz de connecções\n",
    "def GeraMatriz(nv, nc, C, conec):\n",
    "    # Gera matriz de condutâncias, inicialmente nula\n",
    "    A = np.zeros([nv, nv])\n",
    "\n",
    "    # iterar sobre índices de cano \n",
    "    for i_cano in range(nc):\n",
    "        # condutancia do i-ésimo cano\n",
    "        cond_cano = C[i_cano]\n",
    "        # \"nós\" nos quais há conexão do cano\n",
    "        p, q = conec[i_cano]\n",
    "        # matriz 2x2 de condutâncias locais entre nó p e nó q\n",
    "        c_local = np.array([\n",
    "            [cond_cano, -cond_cano], \n",
    "            [-cond_cano, cond_cano]\n",
    "        ])\n",
    "        # \"somar\" a matriz c_local na linha p, coluna q da matriz de condutâncias\n",
    "        A[p, p] += c_local[0,0]\n",
    "        A[p, q] += c_local[0,1]\n",
    "        A[q, p] += c_local[1,0]\n",
    "        A[q, q] += c_local[1,1]\n",
    "    \n",
    "    return A"
   ]
  },
  {
   "cell_type": "code",
   "execution_count": null,
   "id": "21951d41",
   "metadata": {},
   "outputs": [],
   "source": [
    "# Função que resolve uma rede tal que :\n",
    "## um dos vertices nAtm está conectado à atmosfera\n",
    "## outro nó nB recebe uma vazão QB\n",
    "\n",
    "def ResolveRedes1(nv, nc, C, conec, nAtm, nB, QB):\n",
    "    A = GeraMatriz(nv, nc, C, conec)\n",
    "    \n",
    "    # cópia da matriz A para a nova matriz NovaA\n",
    "    NovaA = np.copy(A)\n",
    "\n",
    "    # declaração do vetor das condutancias\n",
    "    # a vazão no ponto B é igual a Qb\n",
    "    Soma_cond = np.zeros(nv, dtype = float)\n",
    "    Soma_cond[nB] = QB\n",
    "\n",
    "    # a pressão em nAtm é igual a zero\n",
    "    NovaA[nAtm, :] = 0.0\n",
    "    NovaA[nAtm, nAtm] = 1.0\n",
    "\n",
    "    return np.linalg.solve(NovaA, Soma_cond)\n"
   ]
  },
  {
   "cell_type": "code",
   "execution_count": 7,
   "id": "a76da0ba",
   "metadata": {},
   "outputs": [],
   "source": [
    "# função que resolve redes tal que:\n",
    "## há uma pressão fixa PR a um nó nR\n",
    "## há um consumo pré-estabelecido nos demais canos\n",
    "\n",
    "def ResolveRede2(nv, nc, C, consumo, conec, PR, nR):\n",
    "    A = GeraMatriz(nv, nc, C, conec)\n",
    "\n",
    "    # cópia da matriz A para a nova matriz A\n",
    "    NovaA = np.copy(A)\n",
    "\n",
    "    # declaração do vetor das condutancias\n",
    "    # a vazão no ponto nR é PR\n",
    "    Soma_cond[nR] = PR\n",
    "    NovaA[nR,:] = 0.0\n",
    "    NovaA[nR,nR] = 1.0\n",
    "\n",
    "    # a vazão nos demais canos diminui proporcionalmente ao consumo\n",
    "    Soma_cond = -consumo * np.ones(nv, dtype=float)\n",
    "\n",
    "    return np.linalg.solve(NovaA, Soma_cond)"
   ]
  },
  {
   "cell_type": "code",
   "execution_count": 19,
   "id": "19f0c2c6",
   "metadata": {},
   "outputs": [],
   "source": [
    "#Função que cria uma Rede Hidraulica em grade quadrada\n",
    "#lin: numero de linhas\n",
    "#col: numero de colunas\n",
    "#CH: condutância dos canos horizontais\n",
    "#CV: condutância dos canos verticais\n",
    "#retorna número de vértices, número de canos,\n",
    "#lista de condutâncias, matriz de conecções\n",
    "#e coordenadas dos vértices\n",
    "def CriaRedeQuad(lin, col, CH, CV):\n",
    "    #numero de vertices e arestas\n",
    "    nv = lin * col\n",
    "    nc = (lin - 1) * col + (col - 1) * lin # arestas verticais + horizontais\n",
    "    \n",
    "    #criação da matriz de coordenadas dos vértices\n",
    "    coord = np.zeros(shape = (nv,2))\n",
    "    \n",
    "    #popular matriz de coordenadas\n",
    "    for j in range (lin):\n",
    "        for i in range (col):\n",
    "            ig = i + j * col\n",
    "            coord[ig,0] = i\n",
    "            coord[ig,1] = j\n",
    "            \n",
    "    #matriz de conexões e condutancia\n",
    "    conec = np.zeros(shape = (nc,2), dtype = int)\n",
    "    C = np.zeros(nc)\n",
    "    \n",
    "    #Popular condutâncias (canos horizontais)\n",
    "    for j in range(lin):\n",
    "        for i in range(col - 1):\n",
    "            k = j*(col - 1) + i\n",
    "            conec[k,0] = j*col + i\n",
    "            conec[k,1] = j*col + i+1\n",
    "            C[k] = CH\n",
    "            \n",
    "    #Popular condutâncias (canos verticais)\n",
    "    for i in range(col):\n",
    "        for j in range(lin - 1):\n",
    "            k = (col - 1)*lin + j*col + i\n",
    "            conec[k,0] = i + j*col\n",
    "            conec[k,1] = i + (j+1)*col\n",
    "            C[k] = CV\n",
    "\n",
    "    return nv, nc, conec, C, coord"
   ]
  },
  {
   "cell_type": "code",
   "execution_count": 21,
   "id": "af576d07",
   "metadata": {},
   "outputs": [
    {
     "ename": "AttributeError",
     "evalue": "module 'numpy' has no attribute 'linealg'",
     "output_type": "error",
     "traceback": [
      "\u001b[1;31m---------------------------------------------------------------------------\u001b[0m",
      "\u001b[1;31mAttributeError\u001b[0m                            Traceback (most recent call last)",
      "Cell \u001b[1;32mIn[21], line 13\u001b[0m\n\u001b[0;32m     11\u001b[0m QB \u001b[39m=\u001b[39m \u001b[39m3.0\u001b[39m\n\u001b[0;32m     12\u001b[0m C_grade[[\u001b[39m1\u001b[39m,\u001b[39m3\u001b[39m,\u001b[39m5\u001b[39m,\u001b[39m10\u001b[39m]] \u001b[39m=\u001b[39m \u001b[39m0.000001\u001b[39m\n\u001b[1;32m---> 13\u001b[0m pressure \u001b[39m=\u001b[39m ResolveRedes1(nv, nc, C_grade, conec_grade, natm, nB, QB)\n\u001b[0;32m     15\u001b[0m \u001b[39mdef\u001b[39;00m \u001b[39mPlotPressure\u001b[39m(n, m, pressure):\n\u001b[0;32m     16\u001b[0m     x \u001b[39m=\u001b[39m np\u001b[39m.\u001b[39marange(\u001b[39m0\u001b[39m, n, \u001b[39m1\u001b[39m)\n",
      "Cell \u001b[1;32mIn[18], line 21\u001b[0m, in \u001b[0;36mResolveRedes1\u001b[1;34m(nv, nc, C, conec, nAtm, nB, QB)\u001b[0m\n\u001b[0;32m     18\u001b[0m NovaA[nAtm, :] \u001b[39m=\u001b[39m \u001b[39m0.0\u001b[39m\n\u001b[0;32m     19\u001b[0m NovaA[nAtm, nAtm] \u001b[39m=\u001b[39m \u001b[39m1.0\u001b[39m\n\u001b[1;32m---> 21\u001b[0m \u001b[39mreturn\u001b[39;00m np\u001b[39m.\u001b[39;49mlinealg\u001b[39m.\u001b[39msolve(NovaA, Soma_cond)\n",
      "File \u001b[1;32m~\\AppData\\Local\\Packages\\PythonSoftwareFoundation.Python.3.11_qbz5n2kfra8p0\\LocalCache\\local-packages\\Python311\\site-packages\\numpy\\__init__.py:320\u001b[0m, in \u001b[0;36m__getattr__\u001b[1;34m(attr)\u001b[0m\n\u001b[0;32m    317\u001b[0m     \u001b[39mfrom\u001b[39;00m \u001b[39m.\u001b[39;00m\u001b[39mtesting\u001b[39;00m \u001b[39mimport\u001b[39;00m Tester\n\u001b[0;32m    318\u001b[0m     \u001b[39mreturn\u001b[39;00m Tester\n\u001b[1;32m--> 320\u001b[0m \u001b[39mraise\u001b[39;00m \u001b[39mAttributeError\u001b[39;00m(\u001b[39m\"\u001b[39m\u001b[39mmodule \u001b[39m\u001b[39m{!r}\u001b[39;00m\u001b[39m has no attribute \u001b[39m\u001b[39m\"\u001b[39m\n\u001b[0;32m    321\u001b[0m                      \u001b[39m\"\u001b[39m\u001b[39m{!r}\u001b[39;00m\u001b[39m\"\u001b[39m\u001b[39m.\u001b[39mformat(\u001b[39m__name__\u001b[39m, attr))\n",
      "\u001b[1;31mAttributeError\u001b[0m: module 'numpy' has no attribute 'linealg'"
     ]
    }
   ],
   "source": [
    "###teste (deletar)\n",
    "CH = 1.0\n",
    "CV = 3.0\n",
    "n, m = 6, 6\n",
    "nv, nc, conec_grade, C_grade, coord_grade = CriaRedeQuad(n, m , CH, CV)\n",
    "#PlotaRede(conec_grade, C_grade, coord_grade)\n",
    "\n",
    "# Dados da conexao\n",
    "natm = nv-1\n",
    "nB = 1-1\n",
    "QB = 3.0\n",
    "C_grade[[1,3,5,10]] = 0.000001\n",
    "pressure = ResolveRedes1(nv, nc, C_grade, conec_grade, natm, nB, QB)\n",
    "\n",
    "def PlotPressure(n, m, pressure):\n",
    "    x = np.arange(0, n, 1)\n",
    "    y = np.arange(0, m, 1)\n",
    "    X,Y=np.meshgrid(x,y)\n",
    "    Z = np.copy(pressure)\n",
    "    Z.shape = (m,n)\n",
    "    fig, ax = plt.subplots(figsize=(7,7))\n",
    "    ax.set_aspect('equal')\n",
    "    ax.set(xlabel='x', ylabel='y', title='Contours of pressure')\n",
    "    ax.grid()\n",
    "    ax.set_xticks(x)\n",
    "    ax.set_yticks(y)\n",
    "    cp = plt.contourf(X, Y, Z, 15, cmap='jet')\n",
    "    cb = plt.colorbar(cp)\n",
    "    plt.show()\n",
    "    \n",
    "PlotPressure(n,m, pressure)"
   ]
  }
 ],
 "metadata": {
  "kernelspec": {
   "display_name": "Python 3 (ipykernel)",
   "language": "python",
   "name": "python3"
  },
  "language_info": {
   "codemirror_mode": {
    "name": "ipython",
    "version": 3
   },
   "file_extension": ".py",
   "mimetype": "text/x-python",
   "name": "python",
   "nbconvert_exporter": "python",
   "pygments_lexer": "ipython3",
   "version": "3.10.5"
  }
 },
 "nbformat": 4,
 "nbformat_minor": 5
}
