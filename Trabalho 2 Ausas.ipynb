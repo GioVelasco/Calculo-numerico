{
 "cells": [
  {
   "attachments": {},
   "cell_type": "markdown",
   "id": "86f605b5",
   "metadata": {},
   "source": [
    "# Resolução de Redes em python\n",
    "\n",
    "Giovanna de Freitas Velasco - 1367634\n",
    "João Pedro Gomes - 13839069"
   ]
  },
  {
   "attachments": {},
   "cell_type": "markdown",
   "id": "6ca5b3e5",
   "metadata": {},
   "source": [
    "### Exercício A"
   ]
  },
  {
   "cell_type": "code",
   "execution_count": 2,
   "id": "c7d2a55c",
   "metadata": {},
   "outputs": [],
   "source": [
    "import numpy as np\n",
    "#import matplotlib.pyplot as plt"
   ]
  },
  {
   "cell_type": "code",
   "execution_count": 3,
   "id": "8ec9a411",
   "metadata": {},
   "outputs": [
    {
     "name": "stdout",
     "output_type": "stream",
     "text": [
      "[[ 4. -2.  0.  0. -2.]\n",
      " [-2.  5. -2.  0. -1.]\n",
      " [ 0. -2.  5. -1. -2.]\n",
      " [ 0.  0. -1.  3. -2.]\n",
      " [-2. -1. -2. -2.  7.]]\n"
     ]
    }
   ],
   "source": [
    "# Gera matriz de condutâncias\n",
    "# nv: número de vértices\n",
    "# nc: número de canos\n",
    "# C: lista de condutâncias do cano\n",
    "# connec: matriz de connecções\n",
    "def GeraMatriz(nv, nc, C, conec):\n",
    "    # Gera matriz de condutâncias, inicialmente nula\n",
    "    A = np.zeros([nv, nv])\n",
    "\n",
    "    # iterar sobre índices de cano \n",
    "    for i_cano in range(nc):\n",
    "        # condutancia do i-ésimo cano\n",
    "        cond_cano = C[i_cano]\n",
    "        # \"nós\" nos quais há conexão do cano\n",
    "        p, q = conec[i_cano]\n",
    "        # matriz 2x2 de condutâncias locais entre nó p e nó q\n",
    "        c_local = np.array([\n",
    "            [cond_cano, -cond_cano], \n",
    "            [-cond_cano, cond_cano]\n",
    "        ])\n",
    "        # \"somar\" a matriz c_local na linha p, coluna q da matriz de condutâncias\n",
    "        A[p, p] += c_local[0,0]\n",
    "        A[p, q] += c_local[0,1]\n",
    "        A[q, p] += c_local[1,0]\n",
    "        A[q, q] += c_local[1,1]\n",
    "    \n",
    "    return A"
   ]
  },
  {
   "cell_type": "code",
   "execution_count": null,
   "id": "21951d41",
   "metadata": {},
   "outputs": [],
   "source": [
    "# Função que resolve uma rede tal que :\n",
    "## um dos vertices nAtm está conectado à atmosfera\n",
    "## outro nó nB recebe uma vazão QB\n",
    "\n",
    "def ResolveRedes1(nv, nc, C, conec, nAtm, nB, QB):\n",
    "    A = GeraMatriz(nv, nc, C, conec)\n",
    "    \n",
    "    # cópia da matriz A para a nova matriz NovaA\n",
    "    NovaA = np.copy(A)\n",
    "\n",
    "    # declaração do vetor das condutancias\n",
    "    # a vazão no ponto B é igual a Qb\n",
    "    Soma_cond = np.zeros(nv, dtype = float)\n",
    "    Soma_cond[nB] = QB\n",
    "\n",
    "    # a pressão em nAtm é igual a zero\n",
    "    NovaA[nAtm, :] = 0.0\n",
    "    NovaA[nAtm, nAtm] = 1.0\n",
    "\n",
    "    return np.linealg.solve(NovaA, Soma_cond)\n"
   ]
  },
  {
   "cell_type": "code",
   "execution_count": 7,
   "id": "a76da0ba",
   "metadata": {},
   "outputs": [],
   "source": [
    "# função que resolve redes tal que:\n",
    "## há uma pressão fixa PR a um nó nR\n",
    "## há um consumo pré-estabelecido nos demais canos\n",
    "\n",
    "def ResolveRede2(nv, nc, C, consumo, conec, PR, nR):\n",
    "    A = GeraMatriz(nv, nc, C, conec)\n",
    "\n",
    "    # cópia da matriz A para a nova matriz A\n",
    "    NovaA = np.copy(A)\n",
    "\n",
    "    # declaração do vetor das condutancias\n",
    "    # a vazão no ponto nR é PR\n",
    "    Soma_cond[nR] = PR\n",
    "    NovaA[nR,:] = 0.0\n",
    "    NovaA[nR,nR] = 1.0\n",
    "\n",
    "    # a vazão nos demais canos diminui proporcionalmente ao consumo\n",
    "    Soma_cond = -consumo * np.ones(nv, dtype=float)\n",
    "\n",
    "    return np.linalg.solve(NovaA, Soma_cond)"
   ]
  },
  {
   "cell_type": "code",
   "execution_count": 3,
   "id": "19f0c2c6",
   "metadata": {},
   "outputs": [],
   "source": [
    "import numpy as np\n",
    "#import matplotlib.pyplot as plt\n",
    "\n",
    "#declaração do número de linhas e colunas da grade\n",
    "lin = 4\n",
    "col = 5\n",
    "\n",
    "#n == colunas\n",
    "#m == linhas\n",
    "\n",
    "#Função que cria uma Rede Hidraulica em grade quadrada\n",
    "def CriaRedeQuad(lin, col, CH, CV):\n",
    "    #numero de vertices e arestas\n",
    "    nv = lin * col\n",
    "    nc = (lin - 1) * col + (col - 1) * lin\n",
    "    \n",
    "    #criação da matriz de coordenadas dos vértices\n",
    "    coord = np.zeros(shape = (nv,2))\n",
    "    \n",
    "    #enumeração dos vértices\n",
    "    for j in range (lin):\n",
    "        for i in range (col):\n",
    "            ig = i + j * col\n",
    "            coord[ig,0] = i\n",
    "            coord[ig,1] = j\n",
    "            \n",
    "    #matriz de conexões e condutancia\n",
    "    conec = np.zeros(shape = (nc,2), dtype = int)\n",
    "    C = np.zeros(nc)\n",
    "    \n",
    "    #enumeração de canos horizontais\n",
    "    for j in range (lin):\n",
    "        for i in range (col - 1):\n",
    "            k = j * (col - 1) + i\n",
    "            conec[k,0] = j * col + i\n",
    "            conec[k,1] = j * col + i + 1\n",
    "            C[k] = CH\n",
    "            \n",
    "    #enumeração de canos verticais"
   ]
  }
 ],
 "metadata": {
  "kernelspec": {
   "display_name": "Python 3 (ipykernel)",
   "language": "python",
   "name": "python3"
  },
  "language_info": {
   "codemirror_mode": {
    "name": "ipython",
    "version": 3
   },
   "file_extension": ".py",
   "mimetype": "text/x-python",
   "name": "python",
   "nbconvert_exporter": "python",
   "pygments_lexer": "ipython3",
   "version": "3.10.5"
  }
 },
 "nbformat": 4,
 "nbformat_minor": 5
}
