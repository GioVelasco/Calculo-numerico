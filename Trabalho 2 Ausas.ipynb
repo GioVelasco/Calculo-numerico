{
 "cells": [
  {
   "attachments": {},
   "cell_type": "markdown",
   "id": "86f605b5",
   "metadata": {},
   "source": [
    "# Resolução de Redes em python\n",
    "\n",
    "Giovanna de Freitas Velasco - 1367634\n",
    "João Pedro Gomes - 13839069"
   ]
  },
  {
   "attachments": {},
   "cell_type": "markdown",
   "id": "6ca5b3e5",
   "metadata": {},
   "source": [
    "### Exercício A"
   ]
  },
  {
   "attachments": {},
   "cell_type": "markdown",
   "id": "a703a9f1",
   "metadata": {},
   "source": [
    "Importar bibliotecas que serão usadas durante o exercício"
   ]
  },
  {
   "cell_type": "code",
   "execution_count": 1,
   "id": "c7d2a55c",
   "metadata": {},
   "outputs": [],
   "source": [
    "import numpy as np\n",
    "import matplotlib.pyplot as plt"
   ]
  },
  {
   "attachments": {},
   "cell_type": "markdown",
   "id": "f89fd7c7",
   "metadata": {},
   "source": [
    "Criar função `GeraMatriz` para gerar a matriz de condutâncias de uma rede hidráulica."
   ]
  },
  {
   "cell_type": "code",
   "execution_count": 2,
   "id": "8ec9a411",
   "metadata": {},
   "outputs": [],
   "source": [
    "# Gera matriz de condutâncias\n",
    "# nv: número de vértices\n",
    "# nc: número de canos\n",
    "# C: lista de condutâncias do cano\n",
    "# connec: matriz de connecções\n",
    "def GeraMatriz(nv, nc, C, conec):\n",
    "    # Gera matriz de condutâncias, inicialmente nula\n",
    "    A = np.zeros([nv, nv])\n",
    "\n",
    "    # iterar sobre índices de cano \n",
    "    for i_cano in range(nc):\n",
    "        # condutancia do i-ésimo cano\n",
    "        cond_cano = C[i_cano]\n",
    "        # \"nós\" nos quais há conexão do cano\n",
    "        p, q = conec[i_cano]\n",
    "        # matriz 2x2 de condutâncias locais entre nó p e nó q\n",
    "        c_local = np.array([\n",
    "            [cond_cano, -cond_cano], \n",
    "            [-cond_cano, cond_cano]\n",
    "        ])\n",
    "        # \"somar\" a matriz c_local na linha p, coluna q da matriz de condutâncias\n",
    "        A[p, p] += c_local[0,0]\n",
    "        A[p, q] += c_local[0,1]\n",
    "        A[q, p] += c_local[1,0]\n",
    "        A[q, q] += c_local[1,1]\n",
    "    \n",
    "    return A"
   ]
  },
  {
   "attachments": {},
   "cell_type": "markdown",
   "id": "40b0d056",
   "metadata": {},
   "source": [
    "Declarar função `ResolveRedes1`, para resolver redes nas quais um vértice está com pressão no nível da atmosfera e outro recebe uma vazão constante $QB$ utilizando a parte de álgebra linear da biblioteca NumPy"
   ]
  },
  {
   "cell_type": "code",
   "execution_count": 16,
   "id": "21951d41",
   "metadata": {},
   "outputs": [],
   "source": [
    "# Função que resolve uma rede tal que :\n",
    "## um dos vertices nAtm está conectado à atmosfera\n",
    "## outro nó nB recebe uma vazão QB\n",
    "\n",
    "def ResolveRedes1(nv, nc, C, conec, nAtm, nB, QB):\n",
    "    A = GeraMatriz(nv, nc, C, conec)\n",
    "    \n",
    "    # cópia da matriz A para a nova matriz NovaA\n",
    "    NovaA = np.copy(A)\n",
    "\n",
    "    # declaração do vetor das condutancias\n",
    "    # a vazão no ponto B é igual a Qb\n",
    "    Soma_cond = np.zeros(nv, dtype = float)\n",
    "    Soma_cond[nB] = QB\n",
    "\n",
    "    # a pressão em nAtm é igual a zero\n",
    "    NovaA[nAtm, :] = 0.0\n",
    "    NovaA[nAtm, nAtm] = 1.0\n",
    "\n",
    "    # Cálculo das pressões obtidas\n",
    "    pressure = np.linalg.solve(NovaA, Soma_cond)\n",
    "    max_pressure = np.max(pressure)\n",
    "    \n",
    "    return pressure, max_pressure\n"
   ]
  },
  {
   "attachments": {},
   "cell_type": "markdown",
   "id": "81384e26",
   "metadata": {},
   "source": [
    "A função `ResolveRede2`, de forma similar, resolve redes onde um nó tem pressão fixa e canos têm perdas de pressão."
   ]
  },
  {
   "cell_type": "code",
   "execution_count": 37,
   "id": "a76da0ba",
   "metadata": {},
   "outputs": [],
   "source": [
    "# função que resolve redes tal que:\n",
    "## há uma pressão fixa Pf a um nó nf\n",
    "## há um consumo pré-estabelecido nos demais canos\n",
    "\n",
    "def ResolveRede2(nv, nc, C, conec, nf, Pf):\n",
    "    A = GeraMatriz(nv, nc, C, conec)\n",
    "\n",
    "    # cópia da matriz A para a nova matriz A\n",
    "    NovaA = np.copy(A)\n",
    "\n",
    "    # declaração do vetor das condutancias\n",
    "    NovaA[nf,:] = 0.0\n",
    "    NovaA[nf,nf] = 1.0\n",
    "\n",
    "    # a vazão nos demais canos diminui proporcionalmente ao consumo\n",
    "    Soma_cond = -0.1 * np.ones(nv, dtype=float)\n",
    "    Soma_cond[nf] = Pf\n",
    "\n",
    "    # Cálculo das pressões obtidas\n",
    "    pressure = np.linalg.solve(NovaA, Soma_cond)\n",
    "    max_pressure = np.max(pressure)\n",
    "    \n",
    "    return pressure, max_pressure"
   ]
  },
  {
   "attachments": {},
   "cell_type": "markdown",
   "id": "9119f656",
   "metadata": {},
   "source": [
    "Definir função que gera automaticamente os parâmetros para uma rede quadrada, com $lin$ linhas e $col$ colunas de nós"
   ]
  },
  {
   "cell_type": "code",
   "execution_count": 79,
   "id": "19f0c2c6",
   "metadata": {},
   "outputs": [],
   "source": [
    "#Função que cria uma Rede Hidraulica em grade quadrada\n",
    "#lin: numero de linhas\n",
    "#col: numero de colunas\n",
    "#CH: condutância dos canos horizontais\n",
    "#CV: condutância dos canos verticais\n",
    "#retorna número de vértices, número de canos,\n",
    "#lista de condutâncias, matriz de conecções\n",
    "#e coordenadas dos vértices\n",
    "def CriaRedeQuad(lin, col, CH, CV):\n",
    "    #numero de vertices e arestas\n",
    "    nv = lin * col\n",
    "    nc = (lin - 1) * col + (col - 1) * lin # arestas verticais + horizontais\n",
    "    \n",
    "    #criação da matriz de coordenadas dos vértices\n",
    "    cond = np.zeros(shape = (nv,2))\n",
    "    \n",
    "    #popular matriz de coordenadas\n",
    "    for i in range (lin):\n",
    "        for j in range (col):\n",
    "            ig = i + j * lin\n",
    "            cond[ig,0] = i\n",
    "            cond[ig,1] = j\n",
    "            \n",
    "    #matriz de conexões e condutancia\n",
    "    conec = np.zeros(shape = (nc,2), dtype = int)\n",
    "    C = np.zeros(nc)\n",
    "    \n",
    "    #Popular condutâncias (canos horizontais)\n",
    "    for j in range(col):\n",
    "        for i in range(lin - 1):\n",
    "            k = j*(lin - 1) + i\n",
    "            conec[k,0] = j*lin + i\n",
    "            conec[k,1] = j*lin + i+1\n",
    "            C[k] = CH\n",
    "            \n",
    "    #Popular condutâncias (canos verticais)\n",
    "    for i in range(lin):\n",
    "        for j in range(col - 1):\n",
    "            k = (lin - 1)*col + j*lin + i\n",
    "            conec[k,0] = i + j*lin\n",
    "            conec[k,1] = i + (j+1)*lin\n",
    "            C[k] = CV\n",
    "\n",
    "    return nv, nc, conec, C, cond"
   ]
  },
  {
   "attachments": {},
   "cell_type": "markdown",
   "id": "ee73ca1c",
   "metadata": {},
   "source": [
    "Para verificar a pressão em cada aresta da matriz, utilizamos a função PlotaPress. Para exibir as pressões nas Redes do Tipo 1, escolhemos valores para uma rede 8x8 e plotamos o gráfico para dois cenários distintos."
   ]
  },
  {
   "cell_type": "code",
   "execution_count": 81,
   "id": "523f6aa5",
   "metadata": {},
   "outputs": [
    {
     "data": {
      "image/png": "[encoded data removed]",
      "text/plain": [
       "<Figure size 640x480 with 2 Axes>"
      ]
     },
     "metadata": {},
     "output_type": "display_data"
    },
    {
     "data": {
      "image/png": "[encoded data removed]",
      "text/plain": [
       "<Figure size 640x480 with 2 Axes>"
      ]
     },
     "metadata": {},
     "output_type": "display_data"
    }
   ],
   "source": [
    "# Dados da rede proposta\n",
    "lin = 8\n",
    "col = 8\n",
    "CH = 3.0\n",
    "CV = 4.0\n",
    "\n",
    "# Geração da Rede\n",
    "nv, nc, conec, C, cond = CriaRedeQuad(lin, col, CH, CV)\n",
    "\n",
    "# Valores de teste para a Rede\n",
    "natm = 3\n",
    "nB = 12\n",
    "QB = 2.7\n",
    "\n",
    "pressure, max_pressure = ResolveRedes1(nv, nc, C, conec, natm, nB, QB)\n",
    "\n",
    "\n",
    "def PlotaPress(lin, col , pressure):\n",
    "    # Criação de uma meshgrid\n",
    "    x = np.arange(0, lin, 1)\n",
    "    y = np.arange(0, col, 1)\n",
    "    X,Y = np.meshgrid(x,y)\n",
    "    \n",
    "    # Armazenamento dos valores das pressões\n",
    "    Z = np.copy(pressure)\n",
    "    Z.shape = (col ,lin)\n",
    "    \n",
    "    # Plotagem das curvas de nível\n",
    "    fig, ax = plt.subplots()\n",
    "    ax.set_aspect('equal')\n",
    "    ax.set(xlabel='x', ylabel='y', title = 'Curvas de nível da pressão - Tipo 1')\n",
    "    ax.grid()\n",
    "    ax.set_xticks(x)\n",
    "    ax.set_yticks(y)\n",
    "    cp = plt.contourf(X, Y, Z, 10, cmap = 'jet')\n",
    "    cb = plt.colorbar(cp)\n",
    "    plt.show()\n",
    "\n",
    "\n",
    "# Valores de teste para a Rede\n",
    "natm = 59\n",
    "nB = 5\n",
    "QB = 1.2\n",
    "\n",
    "pressure, max_pressure = ResolveRedes1(nv, nc, C, conec, natm, nB, QB)\n",
    "\n",
    "PlotaPress(lin, col, pressure)\n",
    "\n",
    "\n",
    "# Valores de teste para a Rede\n",
    "natm = 22\n",
    "nB = 50\n",
    "QB = 34.5\n",
    "\n",
    "pressure, max_pressure = ResolveRedes1(nv, nc, C, conec, natm, nB, QB)\n",
    "\n",
    "PlotaPress(lin, col, pressure)"
   ]
  },
  {
   "attachments": {},
   "cell_type": "markdown",
   "id": "aa4d8a87",
   "metadata": {},
   "source": [
    "Realizamos o mesmo procedimento para uma Rede do Tipo 2."
   ]
  },
  {
   "cell_type": "code",
   "execution_count": 86,
   "id": "82f803c0",
   "metadata": {},
   "outputs": [
    {
     "data": {
      "image/png": "[encoded data removed]",
      "text/plain": [
       "<Figure size 640x480 with 2 Axes>"
      ]
     },
     "metadata": {},
     "output_type": "display_data"
    },
    {
     "ename": "IndexError",
     "evalue": "index 13 is out of bounds for axis 0 with size 4",
     "output_type": "error",
     "traceback": [
      "\u001b[1;31m---------------------------------------------------------------------------\u001b[0m",
      "\u001b[1;31mIndexError\u001b[0m                                Traceback (most recent call last)",
      "Cell \u001b[1;32mIn[86], line 43\u001b[0m\n\u001b[0;32m     40\u001b[0m nf \u001b[39m=\u001b[39m \u001b[39m13\u001b[39m\n\u001b[0;32m     41\u001b[0m Pf \u001b[39m=\u001b[39m \u001b[39m0.25\u001b[39m\n\u001b[1;32m---> 43\u001b[0m pressure, max_pressure \u001b[39m=\u001b[39m ResolveRede2(nv, nc, C, conec, nf, Pf)\n\u001b[0;32m     45\u001b[0m PlotaPress(lin, col, pressure)\n",
      "Cell \u001b[1;32mIn[37], line 12\u001b[0m, in \u001b[0;36mResolveRede2\u001b[1;34m(nv, nc, C, conec, nf, Pf)\u001b[0m\n\u001b[0;32m      9\u001b[0m NovaA \u001b[39m=\u001b[39m np\u001b[39m.\u001b[39mcopy(A)\n\u001b[0;32m     11\u001b[0m \u001b[39m# declaração do vetor das condutancias\u001b[39;00m\n\u001b[1;32m---> 12\u001b[0m NovaA[nf,:] \u001b[39m=\u001b[39m \u001b[39m0.0\u001b[39m\n\u001b[0;32m     13\u001b[0m NovaA[nf,nf] \u001b[39m=\u001b[39m \u001b[39m1.0\u001b[39m\n\u001b[0;32m     15\u001b[0m \u001b[39m# a vazão nos demais canos diminui proporcionalmente ao consumo\u001b[39;00m\n",
      "\u001b[1;31mIndexError\u001b[0m: index 13 is out of bounds for axis 0 with size 4"
     ]
    }
   ],
   "source": [
    "# Dados da rede proposta\n",
    "lin = 2\n",
    "col = 2\n",
    "CH = 3.0\n",
    "CV = 4.0\n",
    "\n",
    "# Geração da Rede\n",
    "nv, nc, conec, C, cond = CriaRedeQuad(lin, col, CH, CV)\n",
    "\n",
    "# Valores de teste para a Rede\n",
    "nf = 3\n",
    "Pf = 12.5\n",
    "\n",
    "pressure, max_pressure = ResolveRede2(nv, nc, C, conec, nf, Pf)\n",
    "\n",
    "def PlotaPress(lin, col , pressure):\n",
    "    # Criação de uma meshgrid\n",
    "    x = np.arange(0, lin, 1)\n",
    "    y = np.arange(0, col, 1)\n",
    "    X,Y = np.meshgrid(x,y)\n",
    "    \n",
    "    # Armazenamento dos valores das pressões\n",
    "    Z = np.copy(pressure)\n",
    "    Z.shape = (col ,lin)\n",
    "    \n",
    "    # Plotagem das curvas de nível\n",
    "    fig, ax = plt.subplots()\n",
    "    ax.set_aspect('equal')\n",
    "    ax.set(xlabel='x', ylabel='y', title = 'Curvas de nível da pressão - Tipo 2')\n",
    "    ax.grid()\n",
    "    ax.set_xticks(x)\n",
    "    ax.set_yticks(y)\n",
    "    cp = plt.contourf(X, Y, Z, 10, cmap = 'jet')\n",
    "    cb = plt.colorbar(cp)\n",
    "    plt.show()\n",
    "\n",
    "PlotaPress(lin, col, pressure)\n",
    "\n",
    "# Valores de teste para a Rede\n",
    "nf = 13\n",
    "Pf = 0.25\n",
    "\n",
    "pressure, max_pressure = ResolveRede2(nv, nc, C, conec, nf, Pf)\n",
    "\n",
    "PlotaPress(lin, col, pressure)"
   ]
  },
  {
   "attachments": {},
   "cell_type": "markdown",
   "id": "6f42f425",
   "metadata": {},
   "source": [
    "## Exercício B"
   ]
  },
  {
   "cell_type": "code",
   "execution_count": 96,
   "id": "bcee417f",
   "metadata": {},
   "outputs": [],
   "source": [
    "\n",
    "def RetornaVazão(conec, C):\n",
    "    K = np.zeros(shape = (nv,nc))\n",
    "\n",
    "    print(C)\n",
    "    print(conec)\n",
    "\n",
    "    for i in range (nv):\n",
    "        for j in range(nc):\n",
    "            if(i == j):\n",
    "                K[i,j] = C[i]\n",
    "\n",
    "    print(K)\n",
    "\n",
    "    D = np.zeros(shape = (nc,nv))\n",
    "    for k in range (nc):\n",
    "        p = conec[k,0]\n",
    "        q = conec[k,1]\n",
    "        for j in range(nv):\n",
    "            if(j == p):\n",
    "                D[k,j] = 1\n",
    "            if(j == q):\n",
    "                D[k,j] = -1\n",
    "    print(D)\n",
    "\n",
    "    Co = K @ D\n",
    "    Q = Co @ pressure\n",
    "    return Q\n",
    "\n",
    "vaz = RetornaVazão\n",
    "\n"
   ]
  },
  {
   "cell_type": "code",
   "execution_count": null,
   "id": "2ab8be66",
   "metadata": {},
   "outputs": [],
   "source": []
  }
 ],
 "metadata": {
  "kernelspec": {
   "display_name": "Python 3 (ipykernel)",
   "language": "python",
   "name": "python3"
  },
  "language_info": {
   "codemirror_mode": {
    "name": "ipython",
    "version": 3
   },
   "file_extension": ".py",
   "mimetype": "text/x-python",
   "name": "python",
   "nbconvert_exporter": "python",
   "pygments_lexer": "ipython3",
   "version": "3.11.3"
  }
 },
 "nbformat": 4,
 "nbformat_minor": 5
}
