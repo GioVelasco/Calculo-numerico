{
 "cells": [
  {
   "cell_type": "markdown",
   "id": "86f605b5",
   "metadata": {},
   "source": [
    "# Resolução de Redes em python\n",
    "\n",
    "Giovanna de Freitas Velasco - 1367634\n",
    "João Pedro Gomes - "
   ]
  },
  {
   "cell_type": "markdown",
   "id": "6ca5b3e5",
   "metadata": {},
   "source": [
    "### Exercício A"
   ]
  },
  {
   "cell_type": "code",
   "execution_count": null,
   "id": "c7d2a55c",
   "metadata": {},
   "outputs": [],
   "source": [
    "import numpy as np\n",
    "#import matplotlib.pyplot as plt"
   ]
  },
  {
   "cell_type": "code",
   "execution_count": null,
   "id": "8ec9a411",
   "metadata": {},
   "outputs": [],
   "source": [
    "def GeraMatriz(nv, nc, C, conec):\n",
    "    \n"
   ]
  },
  {
   "cell_type": "code",
   "execution_count": 1,
   "id": "19f0c2c6",
   "metadata": {},
   "outputs": [],
   "source": [
    "import numpy as np\n",
    "#import matplotlib.pyplot as plt\n",
    "\n",
    "#declaração do número de linhas e colunas da grade\n",
    "lin = 4\n",
    "col = 5\n",
    "\n",
    "#n == colunas\n",
    "#m == linhas\n",
    "\n",
    "#Função que cria uma Rede Hidraulica em grade quadrada\n",
    "def CriaRedeQuad(lin, col, CH, CV):\n",
    "    #numero de vertices e arestas\n",
    "    nv = lin * col\n",
    "    nc = (lin - 1) * col + (col - 1) * lin\n",
    "    \n",
    "    #criação da matriz de coordenadas dos vértices\n",
    "    coord = np.zeros(shape = (nv,2))\n",
    "    \n",
    "    #enumeração dos vértices\n",
    "    for j in range (lin):\n",
    "        for i in range (col):\n",
    "            ig = i + j * n\n",
    "            coord[ig,0] = i\n",
    "            coord[ig,1] = j\n",
    "            \n",
    "    #matriz de conexões e condutancia\n",
    "    conec = np.zeros(shape = (nc,2), dtype = int)\n",
    "    C = np.zeros(nc)\n",
    "    \n",
    "    #enumeração de canos horizontais\n",
    "    for j in range (lin):\n",
    "        for i in range (col - 1):\n",
    "            k = j * (col - 1) + i\n",
    "            conec[k,0] = j * col + i\n",
    "            conec[k,1] = j * col + i + 1\n",
    "            C[k] = CH\n",
    "            \n",
    "    #enumeração de canos verticais\n",
    "    #for j in range ():\n",
    "    \n",
    " "
   ]
  }
 ],
 "metadata": {
  "kernelspec": {
   "display_name": "Python 3 (ipykernel)",
   "language": "python",
   "name": "python3"
  },
  "language_info": {
   "codemirror_mode": {
    "name": "ipython",
    "version": 3
   },
   "file_extension": ".py",
   "mimetype": "text/x-python",
   "name": "python",
   "nbconvert_exporter": "python",
   "pygments_lexer": "ipython3",
   "version": "3.10.5"
  }
 },
 "nbformat": 4,
 "nbformat_minor": 5
}
